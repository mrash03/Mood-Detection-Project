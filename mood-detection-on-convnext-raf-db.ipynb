{
 "cells": [
  {
   "cell_type": "code",
   "execution_count": null,
   "metadata": {
    "_cell_guid": "b1076dfc-b9ad-4769-8c92-a6c4dae69d19",
    "_kg_hide-output": true,
    "_uuid": "8f2839f25d086af736a60e9eeb907d3b93b6e0e5",
    "trusted": true
   },
   "outputs": [],
   "source": [
    "import numpy as np \n",
    "import pandas as pd \n",
    "\n",
    "import os\n",
    "for dirname, _, filenames in os.walk('/kaggle/input'):\n",
    "    for filename in filenames:\n",
    "        print(os.path.join(dirname, filename))\n",
    "\n"
   ]
  },
  {
   "cell_type": "code",
   "execution_count": 12,
   "metadata": {
    "execution": {
     "iopub.execute_input": "2025-09-15T07:36:27.416982Z",
     "iopub.status.busy": "2025-09-15T07:36:27.416696Z",
     "iopub.status.idle": "2025-09-15T07:36:27.421562Z",
     "shell.execute_reply": "2025-09-15T07:36:27.420773Z",
     "shell.execute_reply.started": "2025-09-15T07:36:27.416961Z"
    },
    "trusted": true
   },
   "outputs": [],
   "source": [
    "import os\n",
    "import pandas as pd\n",
    "import numpy as np\n",
    "import matplotlib.pyplot as plt\n",
    "\n",
    "import torch\n",
    "import torch.nn as nn\n",
    "import torch.optim as optim\n",
    "from torch.utils.data import Dataset, DataLoader\n",
    "from torchvision import transforms\n",
    "from torchvision.io import read_image\n",
    "import timm   \n",
    "\n",
    "from sklearn.utils.class_weight import compute_class_weight\n",
    "from sklearn.metrics import classification_report, confusion_matrix"
   ]
  },
  {
   "cell_type": "code",
   "execution_count": 13,
   "metadata": {
    "execution": {
     "iopub.execute_input": "2025-09-15T07:37:02.178031Z",
     "iopub.status.busy": "2025-09-15T07:37:02.177279Z",
     "iopub.status.idle": "2025-09-15T07:37:02.181550Z",
     "shell.execute_reply": "2025-09-15T07:37:02.180740Z",
     "shell.execute_reply.started": "2025-09-15T07:37:02.178006Z"
    },
    "trusted": true
   },
   "outputs": [],
   "source": [
    "DATA_DIR = \"/kaggle/input/raf-db-dataset/DATASET\"\n",
    "TRAIN_CSV = \"/kaggle/input/raf-db-dataset/train_labels.csv\"\n",
    "VAL_CSV   = \"/kaggle/input/raf-db-dataset/test_labels.csv\"\n"
   ]
  },
  {
   "cell_type": "code",
   "execution_count": null,
   "metadata": {
    "execution": {
     "iopub.execute_input": "2025-09-15T07:37:15.577539Z",
     "iopub.status.busy": "2025-09-15T07:37:15.577263Z",
     "iopub.status.idle": "2025-09-15T07:37:15.648946Z",
     "shell.execute_reply": "2025-09-15T07:37:15.648124Z",
     "shell.execute_reply.started": "2025-09-15T07:37:15.577517Z"
    },
    "trusted": true
   },
   "outputs": [],
   "source": [
    "DATA_DIR = \"/kaggle/input/raf-db-dataset/DATASET\"\n",
    "TRAIN_CSV = \"/kaggle/input/raf-db-dataset/train_labels.csv\"\n",
    "VAL_CSV   = \"/kaggle/input/raf-db-dataset/test_labels.csv\"\n",
    "\n",
    "OUTPUT_DIR = \"./outputs\"\n",
    "os.makedirs(OUTPUT_DIR, exist_ok=True)\n",
    "\n",
    "BATCH_SIZE = 32\n",
    "IMAGE_SIZE = 224\n",
    "NUM_CLASSES = 7  \n",
    "LR = 3e-4\n",
    "EPOCHS = 20\n",
    "PATIENCE = 3\n",
    "DEVICE = torch.device(\"cuda\" if torch.cuda.is_available() else \"cpu\")"
   ]
  },
  {
   "cell_type": "code",
   "execution_count": 28,
   "metadata": {
    "execution": {
     "iopub.execute_input": "2025-09-15T07:47:58.616237Z",
     "iopub.status.busy": "2025-09-15T07:47:58.615465Z",
     "iopub.status.idle": "2025-09-15T07:47:58.622181Z",
     "shell.execute_reply": "2025-09-15T07:47:58.621432Z",
     "shell.execute_reply.started": "2025-09-15T07:47:58.616203Z"
    },
    "trusted": true
   },
   "outputs": [],
   "source": [
    "class RAFDBDataset(Dataset):\n",
    "    def __init__(self, csv_file, root_dir, transform=None):\n",
    "        self.data = pd.read_csv(csv_file)\n",
    "        self.root_dir = root_dir\n",
    "        self.transform = transform\n",
    "\n",
    "    def __len__(self):\n",
    "        return len(self.data)\n",
    "\n",
    "    def __getitem__(self, idx):\n",
    "        img_name = self.data.iloc[idx, 0]      \n",
    "        label = int(self.data.iloc[idx, 1])    \n",
    "\n",
    "        \n",
    "        img_path = os.path.join(self.root_dir, str(label), img_name)\n",
    "\n",
    "        image = read_image(img_path).float() / 255.0\n",
    "\n",
    "        if self.transform:\n",
    "            image = self.transform(image)\n",
    "\n",
    "        return image, label-1  "
   ]
  },
  {
   "cell_type": "code",
   "execution_count": 16,
   "metadata": {
    "execution": {
     "iopub.execute_input": "2025-09-15T07:38:17.217941Z",
     "iopub.status.busy": "2025-09-15T07:38:17.217425Z",
     "iopub.status.idle": "2025-09-15T07:38:17.222811Z",
     "shell.execute_reply": "2025-09-15T07:38:17.221967Z",
     "shell.execute_reply.started": "2025-09-15T07:38:17.217915Z"
    },
    "trusted": true
   },
   "outputs": [],
   "source": [
    "train_transform = transforms.Compose([\n",
    "    transforms.Resize((IMAGE_SIZE, IMAGE_SIZE)),\n",
    "    transforms.RandomHorizontalFlip(),\n",
    "    transforms.RandomRotation(10),\n",
    "    transforms.ColorJitter(brightness=0.2, contrast=0.2),\n",
    "    transforms.Normalize(mean=[0.5], std=[0.5])\n",
    "])\n",
    "\n",
    "val_transform = transforms.Compose([\n",
    "    transforms.Resize((IMAGE_SIZE, IMAGE_SIZE)),\n",
    "    transforms.Normalize(mean=[0.5], std=[0.5])\n",
    "])\n",
    "\n"
   ]
  },
  {
   "cell_type": "code",
   "execution_count": null,
   "metadata": {
    "execution": {
     "iopub.execute_input": "2025-09-15T07:50:05.855874Z",
     "iopub.status.busy": "2025-09-15T07:50:05.855295Z",
     "iopub.status.idle": "2025-09-15T07:50:05.882764Z",
     "shell.execute_reply": "2025-09-15T07:50:05.882221Z",
     "shell.execute_reply.started": "2025-09-15T07:50:05.855853Z"
    },
    "trusted": true
   },
   "outputs": [],
   "source": [
    "train_ds = RAFDBDataset(\n",
    "    TRAIN_CSV, \n",
    "    os.path.join(DATA_DIR, \"train\"), \n",
    "    transform=train_transform\n",
    ")\n",
    "\n",
    "val_ds = RAFDBDataset(\n",
    "    VAL_CSV, \n",
    "    os.path.join(DATA_DIR, \"test\"), \n",
    "    transform=val_transform\n",
    ")\n",
    "\n",
    "train_loader = DataLoader(train_ds, batch_size=BATCH_SIZE, shuffle=True, num_workers=2)\n",
    "val_loader   = DataLoader(val_ds, batch_size=BATCH_SIZE, shuffle=False, num_workers=2)\n"
   ]
  },
  {
   "cell_type": "code",
   "execution_count": null,
   "metadata": {
    "execution": {
     "iopub.execute_input": "2025-09-15T07:38:48.698245Z",
     "iopub.status.busy": "2025-09-15T07:38:48.697462Z",
     "iopub.status.idle": "2025-09-15T07:38:49.221677Z",
     "shell.execute_reply": "2025-09-15T07:38:49.220850Z",
     "shell.execute_reply.started": "2025-09-15T07:38:48.698218Z"
    },
    "trusted": true
   },
   "outputs": [],
   "source": [
    "train_labels = pd.read_csv(TRAIN_CSV)['label'].astype(int).values\n",
    "class_weights = compute_class_weight(class_weight='balanced',\n",
    "                                     classes=np.unique(train_labels),\n",
    "                                     y=train_labels)\n",
    "class_weights = torch.tensor(class_weights, dtype=torch.float).to(DEVICE)\n",
    "print(\"Class Weights:\", class_weights)"
   ]
  },
  {
   "cell_type": "code",
   "execution_count": null,
   "metadata": {
    "execution": {
     "iopub.execute_input": "2025-09-15T07:39:07.448073Z",
     "iopub.status.busy": "2025-09-15T07:39:07.447261Z",
     "iopub.status.idle": "2025-09-15T07:39:08.675630Z",
     "shell.execute_reply": "2025-09-15T07:39:08.674996Z",
     "shell.execute_reply.started": "2025-09-15T07:39:07.448042Z"
    },
    "trusted": true
   },
   "outputs": [],
   "source": [
    "model = timm.create_model(\"convnext_tiny\", pretrained=True, num_classes=NUM_CLASSES)\n",
    "model = model.to(DEVICE)"
   ]
  },
  {
   "cell_type": "code",
   "execution_count": 20,
   "metadata": {
    "execution": {
     "iopub.execute_input": "2025-09-15T07:39:23.858485Z",
     "iopub.status.busy": "2025-09-15T07:39:23.857740Z",
     "iopub.status.idle": "2025-09-15T07:39:23.863174Z",
     "shell.execute_reply": "2025-09-15T07:39:23.862390Z",
     "shell.execute_reply.started": "2025-09-15T07:39:23.858460Z"
    },
    "trusted": true
   },
   "outputs": [],
   "source": [
    "criterion = nn.CrossEntropyLoss(weight=class_weights)\n",
    "optimizer = optim.AdamW(model.parameters(), lr=LR, weight_decay=1e-4)\n",
    "scheduler = optim.lr_scheduler.CosineAnnealingLR(optimizer, T_max=EPOCHS)"
   ]
  },
  {
   "cell_type": "code",
   "execution_count": null,
   "metadata": {
    "execution": {
     "iopub.execute_input": "2025-09-15T07:50:14.780379Z",
     "iopub.status.busy": "2025-09-15T07:50:14.779850Z",
     "iopub.status.idle": "2025-09-15T09:24:00.934485Z",
     "shell.execute_reply": "2025-09-15T09:24:00.933558Z",
     "shell.execute_reply.started": "2025-09-15T07:50:14.780355Z"
    },
    "trusted": true
   },
   "outputs": [],
   "source": [
    "best_val_f1 = 0.0\n",
    "patience_counter = 0\n",
    "\n",
    "for epoch in range(1, EPOCHS+1):\n",
    "   \n",
    "    model.train()\n",
    "    train_loss, correct, total = 0.0, 0, 0\n",
    "\n",
    "    for images, labels in train_loader:\n",
    "        images, labels = images.to(DEVICE), labels.to(DEVICE)\n",
    "\n",
    "        optimizer.zero_grad()\n",
    "        outputs = model(images)\n",
    "        loss = criterion(outputs, labels)\n",
    "        loss.backward()\n",
    "        optimizer.step()\n",
    "\n",
    "        train_loss += loss.item() * images.size(0)\n",
    "        _, predicted = outputs.max(1)\n",
    "        correct += predicted.eq(labels).sum().item()\n",
    "        total += labels.size(0)\n",
    "\n",
    "    train_acc = correct / total\n",
    "    train_loss /= total\n",
    "\n",
    "    \n",
    "    model.eval()\n",
    "    val_loss, correct, total = 0.0, 0, 0\n",
    "    all_preds, all_labels = [], []\n",
    "\n",
    "    with torch.no_grad():\n",
    "        for images, labels in val_loader:\n",
    "            images, labels = images.to(DEVICE), labels.to(DEVICE)\n",
    "            outputs = model(images)\n",
    "            loss = criterion(outputs, labels)\n",
    "\n",
    "            val_loss += loss.item() * images.size(0)\n",
    "            _, predicted = outputs.max(1)\n",
    "            correct += predicted.eq(labels).sum().item()\n",
    "            total += labels.size(0)\n",
    "\n",
    "            all_preds.extend(predicted.cpu().numpy())\n",
    "            all_labels.extend(labels.cpu().numpy())\n",
    "\n",
    "    val_acc = correct / total\n",
    "    val_loss /= total\n",
    "\n",
    "    report = classification_report(all_labels, all_preds, digits=4, zero_division=0, output_dict=True)\n",
    "    val_f1 = report['weighted avg']['f1-score']\n",
    "\n",
    "   \n",
    "    print(f\"Epoch {epoch}/{EPOCHS} | \"\n",
    "          f\"Train Loss: {train_loss:.4f} Acc: {train_acc:.4f} | \"\n",
    "          f\"Val Loss: {val_loss:.4f} Acc: {val_acc:.4f} F1: {val_f1:.4f}\")\n",
    "\n",
    "    scheduler.step()\n",
    "\n",
    "   \n",
    "    if val_f1 > best_val_f1:\n",
    "        best_val_f1 = val_f1\n",
    "        torch.save(model.state_dict(), os.path.join(OUTPUT_DIR, \"best_model.pth\"))\n",
    "        print(\" Saved Best Model\")\n",
    "        patience_counter = 0\n",
    "    else:\n",
    "        patience_counter += 1\n",
    "\n",
    "   \n",
    "    if patience_counter >= PATIENCE:\n",
    "        print(\" Early Stopping triggered\")\n",
    "        break\n",
    "\n",
    "print(\"Training finished. Best F1:\", best_val_f1)"
   ]
  },
  {
   "cell_type": "code",
   "execution_count": 33,
   "metadata": {
    "execution": {
     "iopub.execute_input": "2025-09-15T09:33:58.623873Z",
     "iopub.status.busy": "2025-09-15T09:33:58.623611Z",
     "iopub.status.idle": "2025-09-15T09:33:58.876420Z",
     "shell.execute_reply": "2025-09-15T09:33:58.875815Z",
     "shell.execute_reply.started": "2025-09-15T09:33:58.623852Z"
    },
    "trusted": true
   },
   "outputs": [],
   "source": [
    "torch.save(model.state_dict(), os.path.join(OUTPUT_DIR, \"best_model.pth\"))\n"
   ]
  },
  {
   "cell_type": "code",
   "execution_count": null,
   "metadata": {
    "execution": {
     "iopub.execute_input": "2025-09-15T09:34:06.123351Z",
     "iopub.status.busy": "2025-09-15T09:34:06.122837Z",
     "iopub.status.idle": "2025-09-15T09:34:06.280471Z",
     "shell.execute_reply": "2025-09-15T09:34:06.279742Z",
     "shell.execute_reply.started": "2025-09-15T09:34:06.123327Z"
    },
    "trusted": true
   },
   "outputs": [],
   "source": [
    "model.load_state_dict(torch.load(os.path.join(OUTPUT_DIR, \"best_model.pth\")))\n",
    "model.eval()\n"
   ]
  },
  {
   "cell_type": "code",
   "execution_count": null,
   "metadata": {
    "execution": {
     "iopub.execute_input": "2025-09-15T09:34:29.143453Z",
     "iopub.status.busy": "2025-09-15T09:34:29.142724Z",
     "iopub.status.idle": "2025-09-15T09:34:38.090648Z",
     "shell.execute_reply": "2025-09-15T09:34:38.089747Z",
     "shell.execute_reply.started": "2025-09-15T09:34:29.143427Z"
    },
    "trusted": true
   },
   "outputs": [],
   "source": [
    "all_preds, all_labels = [], []\n",
    "\n",
    "with torch.no_grad():\n",
    "    for images, labels in val_loader:\n",
    "        images, labels = images.to(DEVICE), labels.to(DEVICE)\n",
    "        outputs = model(images)\n",
    "        preds = outputs.argmax(dim=1)\n",
    "        all_preds.extend(preds.cpu().numpy())\n",
    "        all_labels.extend(labels.cpu().numpy())\n",
    "\n",
    "from sklearn.metrics import classification_report\n",
    "print(classification_report(all_labels, all_preds, digits=4))\n"
   ]
  },
  {
   "cell_type": "code",
   "execution_count": null,
   "metadata": {
    "trusted": true
   },
   "outputs": [],
   "source": []
  }
 ],
 "metadata": {
  "kaggle": {
   "accelerator": "none",
   "dataSources": [
    {
     "datasetId": 3758654,
     "sourceId": 6504606,
     "sourceType": "datasetVersion"
    }
   ],
   "dockerImageVersionId": 31090,
   "isGpuEnabled": false,
   "isInternetEnabled": true,
   "language": "python",
   "sourceType": "notebook"
  },
  "kernelspec": {
   "display_name": "Python 3",
   "language": "python",
   "name": "python3"
  },
  "language_info": {
   "codemirror_mode": {
    "name": "ipython",
    "version": 3
   },
   "file_extension": ".py",
   "mimetype": "text/x-python",
   "name": "python",
   "nbconvert_exporter": "python",
   "pygments_lexer": "ipython3",
   "version": "3.11.13"
  }
 },
 "nbformat": 4,
 "nbformat_minor": 4
}
